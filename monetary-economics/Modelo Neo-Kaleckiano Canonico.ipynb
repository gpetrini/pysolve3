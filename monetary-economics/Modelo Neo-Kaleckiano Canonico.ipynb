{
 "cells": [
  {
   "cell_type": "markdown",
   "metadata": {},
   "source": [
    "# Modelo Modelo Neo-Kaleckiano Canônico\n",
    "\n",
    "**Referência:** Lavoie (Capítulo 5)"
   ]
  },
  {
   "cell_type": "markdown",
   "metadata": {},
   "source": [
    "Equações:\n",
    "\n",
    "- Lucro PC: $r = \\frac{P\\cdot u}{v}$\n",
    "- Lucro ED: $r^{ED} = (\\alpha - \\beta u_n + \\beta u)/s_p$\n",
    "- Participação dos lucros: $P = \\frac{\\theta}{1+\\theta}$\n",
    "- Poupança: $g^s = s_pr$\n",
    "    - Investimento: $g^i = \\alpha + \\beta(u-u_n)$"
   ]
  },
  {
   "cell_type": "markdown",
   "metadata": {},
   "source": [
    "## Construindo modelo em python\n",
    "\n",
    "Carregando pacotes:"
   ]
  },
  {
   "cell_type": "code",
   "execution_count": 1,
   "metadata": {},
   "outputs": [],
   "source": [
    "# This line configures matplotlib to show figures embedded in the notebook, \n",
    "# If you are using an old version of IPython, try using '%pylab inline' instead.\n",
    "%matplotlib inline\n",
    "\n",
    "from pysolve.model import Model\n",
    "from pysolve.utils import is_close,round_solution\n",
    "\n",
    "import matplotlib.pyplot as plt"
   ]
  },
  {
   "cell_type": "markdown",
   "metadata": {},
   "source": [
    "Criando modelo:"
   ]
  },
  {
   "cell_type": "code",
   "execution_count": 2,
   "metadata": {},
   "outputs": [],
   "source": [
    "model = Model()\n",
    "model.set_var_default(0)"
   ]
  },
  {
   "cell_type": "markdown",
   "metadata": {},
   "source": [
    "Definindo variáveis"
   ]
  },
  {
   "cell_type": "code",
   "execution_count": 3,
   "metadata": {},
   "outputs": [],
   "source": [
    "model.var('r', desc= 'Lucro')\n",
    "model.var('red', desc= ' Lucro demanda efetiva')\n",
    "model.var('P', desc= 'Participação dos Lucros')\n",
    "model.var('u', desc= 'Grau de utilização da capacidade')\n",
    "model.var('gs', desc= 'Taxa de poupança')\n",
    "model.var('gi', desc= 'Taxa de investimento');\n"
   ]
  },
  {
   "cell_type": "markdown",
   "metadata": {},
   "source": [
    "Definindo parâmetros"
   ]
  },
  {
   "cell_type": "code",
   "execution_count": 4,
   "metadata": {},
   "outputs": [],
   "source": [
    "model.param('v', desc='Relação K/Y', default=0.5)\n",
    "model.param('sp', desc = 'Propensão a poupar a partir dos lucros', default= 0.7)\n",
    "model.param('theta', desc = 'Markup', default= 0.3)\n",
    "model.param('un', desc = 'Grau de utilitação normal', default=0.7)\n",
    "model.param('alpha', desc= 'Animal Spirits', default= 1)\n",
    "model.param('beta', desc= 'Sensibilidade do investimento ao grau de utilização', default=2);\n",
    "    "
   ]
  },
  {
   "cell_type": "markdown",
   "metadata": {},
   "source": [
    "Definindo equações:"
   ]
  },
  {
   "cell_type": "code",
   "execution_count": 5,
   "metadata": {},
   "outputs": [],
   "source": [
    "model.add('P = theta/(1+theta)')\n",
    "model.add('r = (P*u)/v')\n",
    "model.add('red = (alpha - beta*un + beta*u)/sp')\n",
    "model.add('gs = sp*r')\n",
    "model.add('gi = alpha + beta*(u-un)')\n",
    "model.add('u = (alpha - beta*un)/(sp*P/v - beta)');"
   ]
  },
  {
   "cell_type": "markdown",
   "metadata": {},
   "source": [
    "Resolvendo"
   ]
  },
  {
   "cell_type": "code",
   "execution_count": 6,
   "metadata": {},
   "outputs": [
    {
     "name": "stdout",
     "output_type": "stream",
     "text": [
      "P         : 0.2\n",
      "r         : 0.1\n",
      "red       : 0.1\n",
      "u         : 0.2\n",
      "gs        : 0.1\n",
      "gi        : 0.1\n"
     ]
    }
   ],
   "source": [
    "model.solve(iterations=100, threshold=1e-5)\n",
    "\n",
    "prev = round_solution(model.solutions[-2], decimals=1)\n",
    "solution = round_solution(model.solutions[-1], decimals=1)\n",
    "print(\"P         : \" + str(solution['P']))\n",
    "print(\"r         : \" + str(solution['r']))\n",
    "print(\"red       : \" + str(solution['red']))\n",
    "print(\"u         : \" + str(solution['u']))\n",
    "print(\"gs        : \" + str(solution['gs']))\n",
    "print(\"gi        : \" + str(solution['gi']))"
   ]
  },
  {
   "cell_type": "markdown",
   "metadata": {},
   "source": [
    "Criando tabela:"
   ]
  },
  {
   "cell_type": "code",
   "execution_count": 7,
   "metadata": {},
   "outputs": [
    {
     "name": "stdout",
     "output_type": "stream",
     "text": [
      "  Variável  Valores\n",
      "0        P      0.2\n",
      "1        r      0.1\n",
      "2      red      0.1\n",
      "3        u      0.2\n",
      "4       gs      0.1\n",
      "5       gi      0.1\n"
     ]
    }
   ],
   "source": [
    "from IPython.display import HTML\n",
    "import numpy\n",
    "import pandas as pd\n",
    "from pysolve.utils import generate_html_table\n",
    "data = {'Variável': ['P', 'r', 'red', 'u', 'gs', 'gi'],\n",
    "        'Valores' : [solution['P'], solution['r'], solution['red'], solution['u'], solution['gs'], solution['gi']]}\n",
    "tabela = pd.DataFrame(data=data)\n",
    "print(tabela)"
   ]
  },
  {
   "cell_type": "markdown",
   "metadata": {},
   "source": [
    "## Steady State\n"
   ]
  },
  {
   "cell_type": "code",
   "execution_count": 8,
   "metadata": {},
   "outputs": [
    {
     "name": "stdout",
     "output_type": "stream",
     "text": [
      "P         : 0.2\n",
      "r         : 0.1\n",
      "red       : 0.1\n",
      "u         : 0.2\n",
      "gs        : 0.1\n",
      "gi        : 0.1\n"
     ]
    }
   ],
   "source": [
    "steady_state = Model()\n",
    "\n",
    "for _ in range(100):\n",
    "    steady_state.solve(iterations=100, threshold=1e-5)\n",
    "\n",
    "    prev_soln = steady_state.solutions[-2]\n",
    "    soln = steady_state.solutions[-1]\n",
    "    if is_close(prev_soln, soln, atol=1e-4):\n",
    "        break\n",
    "\n",
    "prev = round_solution(model.solutions[-2], decimals=1)\n",
    "solution = round_solution(model.solutions[-1], decimals=1)\n",
    "print(\"P         : \" + str(solution['P']))\n",
    "print(\"r         : \" + str(solution['r']))\n",
    "print(\"red       : \" + str(solution['red']))\n",
    "print(\"u         : \" + str(solution['u']))\n",
    "print(\"gs        : \" + str(solution['gs']))\n",
    "print(\"gi        : \" + str(solution['gi']))"
   ]
  },
  {
   "cell_type": "markdown",
   "metadata": {},
   "source": [
    "Graficamente:"
   ]
  },
  {
   "cell_type": "code",
   "execution_count": 9,
   "metadata": {},
   "outputs": [],
   "source": [
    "alphagi = 1\n",
    "betagi = 2\n",
    "ungi = 0.7\n",
    "index_gi = list(range(0, 11, 1))\n",
    "linhagi = [alphagi + betagi*(index_gi[i]/10 - ungi) for i in index_gi]"
   ]
  },
  {
   "cell_type": "code",
   "execution_count": 10,
   "metadata": {},
   "outputs": [],
   "source": [
    "Spgs = 0.7\n",
    "index_gs = list(range(0, 11, 1))\n",
    "linhags = [Spgs*index_gs[i]/10 for i in index_gs]"
   ]
  },
  {
   "cell_type": "code",
   "execution_count": 11,
   "metadata": {},
   "outputs": [
    {
     "data": {
      "image/png": "[encoded data removed]",
      "text/plain": [
       "<Figure size 432x288 with 1 Axes>"
      ]
     },
     "metadata": {},
     "output_type": "display_data"
    },
    {
     "data": {
      "image/png": "[encoded data removed]",
      "text/plain": [
       "<Figure size 432x288 with 1 Axes>"
      ]
     },
     "metadata": {},
     "output_type": "display_data"
    }
   ],
   "source": [
    "from matplotlib import transforms\n",
    "\n",
    "base = plt.gca().transData\n",
    "rot = transforms.Affine2D().rotate_deg(90)\n",
    "\n",
    "caption = '''\n",
    "    Modelo Neo-Kaleckiano Canônico'''\n",
    "\n",
    "\n",
    "fig = plt.figure()\n",
    "axes = fig.add_axes([0.1, 0.1, 1.0, 1.0])\n",
    "axes.tick_params(top=False)\n",
    "axes.set_ylim(0, 1)\n",
    "axes.plot(linhags, linestyle='-', color='r', transform= rot + base)\n",
    "axes.plot(linhagi, 'b')\n",
    "plt.grid(True)\n",
    "\n",
    "fig.text(0.1, -0.05, caption)\n",
    "axes.set_ylabel(\"Grau de utilização\")\n",
    "axes.set_xlabel(\"Investimento; Poupança\");"
   ]
  },
  {
   "cell_type": "code",
   "execution_count": null,
   "metadata": {},
   "outputs": [],
   "source": []
  }
 ],
 "metadata": {
  "kernelspec": {
   "display_name": "Python 3",
   "language": "python",
   "name": "python3"
  },
  "language_info": {
   "codemirror_mode": {
    "name": "ipython",
    "version": 3
   },
   "file_extension": ".py",
   "mimetype": "text/x-python",
   "name": "python",
   "nbconvert_exporter": "python",
   "pygments_lexer": "ipython3",
   "version": "3.6.6"
  }
 },
 "nbformat": 4,
 "nbformat_minor": 2
}
