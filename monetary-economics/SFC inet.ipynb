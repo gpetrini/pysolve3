{
 "cells": [
  {
   "cell_type": "markdown",
   "metadata": {},
   "source": [
    "# Monetary Economics: Chapter 7"
   ]
  },
  {
   "cell_type": "markdown",
   "metadata": {},
   "source": [
    "### Preliminaries"
   ]
  },
  {
   "cell_type": "code",
   "execution_count": 1,
   "metadata": {},
   "outputs": [],
   "source": [
    "# This line configures matplotlib to show figures embedded in the notebook, \n",
    "# instead of opening a new window for each figure. More about that later. \n",
    "# If you are using an old version of IPython, try using '%pylab inline' instead.\n",
    "%matplotlib inline\n",
    "\n",
    "from pysolve.model import Model\n",
    "from pysolve.utils import is_close,round_solution\n",
    "\n",
    "import matplotlib.pyplot as plt"
   ]
  },
  {
   "cell_type": "markdown",
   "metadata": {},
   "source": [
    "### Model BMWK"
   ]
  },
  {
   "cell_type": "code",
   "execution_count": 2,
   "metadata": {},
   "outputs": [],
   "source": [
    "def create_bmwk_model():\n",
    "    model = Model()\n",
    "\n",
    "    model.set_var_default(0)\n",
    "    #model.var('AF', desc='Amortization funds')\n",
    "    model.var('Cd', desc='Consumption goods demand by households')\n",
    "    model.var('Cs', desc='Consumption goods supply')\n",
    "    #model.var('DA', desc='Depreciation allowance')\n",
    "    model.var('K', desc='Stock of capital')\n",
    "    #model.var('Kt', desc='Target stock of capital')\n",
    "    model.var('Ld', desc='Demand for bank loans')\n",
    "    model.var('Ls', desc='Supply of bank loans')\n",
    "    model.var('Id', desc='Demand for investment goods')\n",
    "    model.var('Is', desc='Supply of investment goods')\n",
    "    model.var('Mh', desc='Bank deposits held by households')\n",
    "    model.var('Ms', desc='Supply of bank deposits')\n",
    "    model.var('Nd', desc='Demand for labor')\n",
    "    model.var('Ns', desc='Supply of labor')\n",
    "    model.var('Rl', desc='Rate of interest on bank loans')\n",
    "    model.var('Rm', desc='Rate of interest on bank deposits')\n",
    "    model.var('W', desc='Wage rate')\n",
    "    model.var('WBd', desc='Wage bill - demand')\n",
    "    model.var('WBs', desc='Wage bill - supply')\n",
    "    model.var('Y', desc='Income = GDP')\n",
    "    model.var('YD', desc='Disposable income of households')\n",
    "    \n",
    "    ############\n",
    "    model.var('rcf', desc='Fu/K(-1)')\n",
    "    model.var('Ft', desc='Total Profits')\n",
    "    model.var('Fu', desc='Retained earning')\n",
    "    model.var('u', desc='Capacity utilization')\n",
    "    \n",
    "    model.set_param_default(0)\n",
    "    model.param('alpha0', desc='Exogenous component in consumption')\n",
    "    model.param('alpha1r', desc='Propensity to consume out of interest income')\n",
    "    model.param('alpha1w', desc='Propensity to consume out of wage income')\n",
    "    model.param('alpha2', desc='Propensity to consume out of wealth')\n",
    "    model.param('delta', desc='Depreciation rate')\n",
    "    #model.param('gamma', desc='Speed of adjustment of capital to its target value')\n",
    "    model.param('kappa', desc='Capital-output ratio')\n",
    "    \n",
    "    #####\n",
    "    model.param('gamma0', desc='Autonomous investiment')\n",
    "    model.param('gamma1', desc='Sensitivity of cash-flow')\n",
    "    model.param('gamma2', desc='Sensitivity leverage')\n",
    "    model.param('gamma3', desc='Sensitivity of u')\n",
    "\n",
    "    model.param('PR', desc='Labor productivity')\n",
    "    model.param('Rlbar', desc='Rate of interest on bank loans, set exogenously')\n",
    "\n",
    "    # Basic behavioural equations\n",
    "    model.add('Cs = Cd') \n",
    "    model.add('Is  = Id')\n",
    "    model.add('Ns = Nd')\n",
    "    model.add('Ls - Ls(-1) = Ld - Ld(-1)') # Sem restrição de crédito\n",
    "    model.add('Y = Cs + Is')\n",
    "    #model.add('WBd = Y - Rl(-1)*Ld(-1) - AF')\n",
    "    model.add('WBd = Y - Rl(-1)*Ld(-1)')\n",
    "    #model.add('AF = delta * K(-1)') # Retirado\n",
    "    #model.add('Ld - Ld(-1) = Id - AF') #Alterado\n",
    "    model.add('rcf = Fu/K(-1)')\n",
    "    model.add('Ft = Y - W') # (Sem Eq, p. 5)\n",
    "    model.add('Fu = Ft - Rl*Ld(-1)') # (5)\n",
    "    model.add('Ld = Id - Fu')\n",
    "    model.add('u = Y/K')\n",
    "    \n",
    "    # Transactions of households\n",
    "    model.add('YD = WBs + Rm(-1)*Mh(-1)')\n",
    "    model.add('Mh - Mh(-1) = YD - Cd')\n",
    "    \n",
    "    # Transactions of the banks\n",
    "    model.add('Ms - Ms(-1) = Ls - Ls(-1)')\n",
    "    model.add('Rm = Rl')\n",
    "    \n",
    "    # The wage bill\n",
    "    model.add('WBs = W * Ns')\n",
    "    model.add('Nd = Y / PR')\n",
    "    model.add('W = WBd / Nd')\n",
    "    \n",
    "    # Household behavior\n",
    "    model.add('Cd = alpha0 + alpha1w*WBs + alpha1r*Rm(-1)*Mh(-1) + alpha2*Mh(-1)')# Retirar\n",
    "    \n",
    "    # The investment beahavior\n",
    "    #model.add('K - K(-1) = Id - DA')\n",
    "    model.add('K - K(-1) = Id')\n",
    "    #model.add('DA = delta * K(-1)') # Retirado\n",
    "    #model.add('Kt = kappa * Y(-1)') # Retirado\n",
    "    #model.add('Id = gamma * (Kt - K(-1)) + DA') # Alterado para (21) sem q de tobin\n",
    "    model.add('Id = gamma0 + gamma1*rcf(-1) - gamma2*Rlbar*Ld/K + gamma3*u(-1)')\n",
    "    \n",
    "    # The behaviour of banks\n",
    "    model.add('Rl = Rlbar')    \n",
    "\n",
    "    return model\n",
    "\n",
    "bmwk_parameters = {'alpha0': 10,\n",
    "                   'alpha1r': 0,\n",
    "                   'alpha1w': 0.75,\n",
    "                   'alpha2': 0,\n",
    "                   'delta': 0.1,\n",
    "                   'gamma0':10,\n",
    "                   'gamma1': 0.1,\n",
    "                   'gamma2': 0.1,\n",
    "                   'gamma3': 0.8}\n",
    "bmwk_exogenous = {'PR': 1,\n",
    "                  'Rlbar': 0.05}\n",
    "bmwk_variables = {'Mh': 185.2,\n",
    "                  'Ms': 185.2,\n",
    "                  'Ld': 185.2,\n",
    "                  'Ls': 185.2,\n",
    "                  'K': 185.2,\n",
    "                  'Y': 185.2,\n",
    "                  'Rl': 0.04,\n",
    "                  'Rm' : 0.04,\n",
    "                  'W': 0.86,\n",
    "                  'Cd': 1,\n",
    "                  'rcf':1}"
   ]
  },
  {
   "cell_type": "markdown",
   "metadata": {},
   "source": [
    "### Scenario: Model BMWK, increase in the interest rate on loans"
   ]
  },
  {
   "cell_type": "code",
   "execution_count": 7,
   "metadata": {},
   "outputs": [],
   "source": [
    "interest = create_bmwk_model()\n",
    "interest.set_values(bmwk_parameters)\n",
    "interest.set_values(bmwk_exogenous)\n",
    "interest.set_values(bmwk_variables)\n",
    "\n",
    "# run to convergence\n",
    "# Give the system more time to reach a steady state\n",
    "for _ in range(15):\n",
    "    interest.solve(iterations=200, threshold=1e-5)\n",
    "\n",
    "# shock the system\n",
    "interest.set_values({'gamma0': 5})\n",
    "\n",
    "for _ in range(100):\n",
    "    interest.solve(iterations=10000, threshold=1e-5)"
   ]
  },
  {
   "cell_type": "markdown",
   "metadata": {},
   "source": [
    "###### Figure 7.8"
   ]
  },
  {
   "cell_type": "code",
   "execution_count": 8,
   "metadata": {
    "scrolled": true
   },
   "outputs": [
    {
     "data": {
      "image/png": "[encoded data removed]",
      "text/plain": [
       "<Figure size 432x288 with 1 Axes>"
      ]
     },
     "metadata": {},
     "output_type": "display_data"
    }
   ],
   "source": [
    "caption = '''\n",
    "    Figure 7.8  Evolution of Gross Domestic Income $(Y)_{t}$, following an\n",
    "    increase in the interest rate, in model BMWK'''\n",
    "data_rcf = [s['rcf'] for s in interest.solutions[5:]]\n",
    "data_l = [s['Ld'] for s in interest.solutions[5:]]\n",
    "data_Y = [s['Y'] for s in interest.solutions[5:]]\n",
    "data_Id = [s['Id'] for s in interest.solutions[5:]]\n",
    "\n",
    "fig = plt.figure()\n",
    "axes = fig.add_axes([0.1, 0.1, 1.1, 1.1])\n",
    "axes.tick_params(top=False, right=False)\n",
    "axes.spines['top'].set_visible(False)\n",
    "axes.spines['right'].set_visible(False)\n",
    "#axes.set_ylim(-1, 2)\n",
    "\n",
    "axes.plot(data_Y, linestyle='-', color='b')\n",
    "axes.plot(data_Id, linestyle='-', color='r')\n",
    "# add labels\n",
    "#plt.text(20, 182, 'National income')\n",
    "         \n",
    "fig.text(0.1, -.05, caption);"
   ]
  },
  {
   "cell_type": "code",
   "execution_count": null,
   "metadata": {},
   "outputs": [],
   "source": []
  }
 ],
 "metadata": {
  "kernelspec": {
   "display_name": "Python 3",
   "language": "python",
   "name": "python3"
  },
  "language_info": {
   "codemirror_mode": {
    "name": "ipython",
    "version": 3
   },
   "file_extension": ".py",
   "mimetype": "text/x-python",
   "name": "python",
   "nbconvert_exporter": "python",
   "pygments_lexer": "ipython3",
   "version": "3.6.7"
  }
 },
 "nbformat": 4,
 "nbformat_minor": 1
}
