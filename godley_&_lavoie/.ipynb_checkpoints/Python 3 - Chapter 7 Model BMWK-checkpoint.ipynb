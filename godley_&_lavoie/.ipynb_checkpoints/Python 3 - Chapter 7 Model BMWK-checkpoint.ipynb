{
 "cells": [
  {
   "cell_type": "markdown",
   "metadata": {},
   "source": [
    "# Monetary Economics: Chapter 7"
   ]
  },
  {
   "cell_type": "markdown",
   "metadata": {},
   "source": [
    "### Preliminaries"
   ]
  },
  {
   "cell_type": "code",
   "execution_count": 1,
   "metadata": {},
   "outputs": [],
   "source": [
    "# This line configures matplotlib to show figures embedded in the notebook, \n",
    "# instead of opening a new window for each figure. More about that later. \n",
    "# If you are using an old version of IPython, try using '%pylab inline' instead.\n",
    "%matplotlib inline\n",
    "\n",
    "from pysolve3.model import Model\n",
    "from pysolve3.utils import is_close,round_solution\n",
    "\n",
    "import matplotlib.pyplot as plt"
   ]
  },
  {
   "cell_type": "markdown",
   "metadata": {},
   "source": [
    "### Model BMWK"
   ]
  },
  {
   "cell_type": "code",
   "execution_count": 2,
   "metadata": {},
   "outputs": [],
   "source": [
    "def create_bmwk_model():\n",
    "    model = Model()\n",
    "\n",
    "    model.set_var_default(0)\n",
    "    model.var('AF', desc='Amortization funds')\n",
    "    model.var('Cd', desc='Consumption goods demand by households')\n",
    "    model.var('Cs', desc='Consumption goods supply')\n",
    "    model.var('DA', desc='Depreciation allowance')\n",
    "    model.var('K', desc='Stock of capital')\n",
    "    model.var('Kt', desc='Target stock of capital')\n",
    "    model.var('Ld', desc='Demand for bank loans')\n",
    "    model.var('Ls', desc='Supply of bank loans')\n",
    "    model.var('Id', desc='Demand for investment goods')\n",
    "    model.var('Is', desc='Supply of investment goods')\n",
    "    model.var('Mh', desc='Bank deposits held by households')\n",
    "    model.var('Ms', desc='Supply of bank deposits')\n",
    "    model.var('Nd', desc='Demand for labor')\n",
    "    model.var('Ns', desc='Supply of labor')\n",
    "    model.var('Rl', desc='Rate of interest on bank loans')\n",
    "    model.var('Rm', desc='Rate of interest on bank deposits')\n",
    "    model.var('W', desc='Wage rate')\n",
    "    model.var('WBd', desc='Wage bill - demand')\n",
    "    model.var('WBs', desc='Wage bill - supply')\n",
    "    model.var('Y', desc='Income = GDP')\n",
    "    model.var('YD', desc='Disposable income of households')\n",
    "    \n",
    "    model.set_param_default(0)\n",
    "    model.param('alpha0', desc='Exogenous component in consumption')\n",
    "    model.param('alpha1r', desc='Propensity to consume out of interest income')\n",
    "    model.param('alpha1w', desc='Propensity to consume out of wage income')\n",
    "    model.param('alpha2', desc='Propensity to consume out of wealth')\n",
    "    model.param('delta', desc='Depreciation rate')\n",
    "    model.param('gamma', desc='Speed of adjustment of capital to its target value')\n",
    "    model.param('kappa', desc='Capital-output ratio')\n",
    "\n",
    "    model.param('PR', desc='Labor productivity')\n",
    "    model.param('Rlbar', desc='Rate of interest on bank loans, set exogenously')\n",
    "\n",
    "    # Basic behavioural equations\n",
    "    model.add('Cs = Cd')\n",
    "    model.add('Is  = Id')\n",
    "    model.add('Ns = Nd')\n",
    "    model.add('Ls - Ls(-1) = Ld - Ld(-1)')\n",
    "    model.add('Y = Cs + Is')\n",
    "    model.add('WBd = Y - Rl(-1)*Ld(-1) - AF')\n",
    "    model.add('AF = delta * K(-1)')\n",
    "    model.add('Ld - Ld(-1) = Id - AF')\n",
    "    \n",
    "    # Transactions of households\n",
    "    model.add('YD = WBs + Rm(-1)*Mh(-1)')\n",
    "    model.add('Mh - Mh(-1) = YD - Cd')\n",
    "    \n",
    "    # Transactions of the banks\n",
    "    model.add('Ms - Ms(-1) = Ls - Ls(-1)')\n",
    "    model.add('Rm = Rl')\n",
    "    \n",
    "    # The wage bill\n",
    "    model.add('WBs = W * Ns')\n",
    "    model.add('Nd = Y / PR')\n",
    "    model.add('W = WBd / Nd')\n",
    "    \n",
    "    # Household behavior\n",
    "    model.add('Cd = alpha0 + alpha1w*WBs + alpha1r*Rm(-1)*Mh(-1) + alpha2*Mh(-1)')\n",
    "    \n",
    "    # The investment beahavior\n",
    "    model.add('K - K(-1) = Id - DA')\n",
    "    model.add('DA = delta * K(-1)')\n",
    "    model.add('Kt = kappa * Y(-1)')\n",
    "    model.add('Id = gamma * (Kt - K(-1)) + DA')\n",
    "    \n",
    "    # The behaviour of banks\n",
    "    model.add('Rl = Rlbar')    \n",
    "\n",
    "    return model\n",
    "\n",
    "bmwk_parameters = {'alpha0': 25,\n",
    "                   'alpha1r': 0.5,\n",
    "                   'alpha1w': 0.75,\n",
    "                   'alpha2': 0.1,\n",
    "                   'delta': 0.1,\n",
    "                   'gamma': 0.15,\n",
    "                   'kappa': 1}\n",
    "bmwk_exogenous = {'PR': 1,\n",
    "                  'Rlbar': 0.04}\n",
    "bmwk_variables = {'Mh': 185.2,\n",
    "                  'Ms': 185.2,\n",
    "                  'Ld': 185.2,\n",
    "                  'Ls': 185.2,\n",
    "                  'K': 185.2,\n",
    "                  'Y': 185.2,\n",
    "                  'Rl': 0.04,\n",
    "                  'Rm' : 0.04,\n",
    "                  'W': 0.86,\n",
    "                  'Cd': 1}"
   ]
  },
  {
   "cell_type": "markdown",
   "metadata": {},
   "source": [
    "### Scenario: Model BMWK, increase in the interest rate on loans"
   ]
  },
  {
   "cell_type": "code",
   "execution_count": 3,
   "metadata": {},
   "outputs": [],
   "source": [
    "interest = create_bmwk_model()\n",
    "interest.set_values(bmwk_parameters)\n",
    "interest.set_values(bmwk_exogenous)\n",
    "interest.set_values(bmwk_variables)\n",
    "\n",
    "# run to convergence\n",
    "# Give the system more time to reach a steady state\n",
    "for _ in range(15):\n",
    "    interest.solve(iterations=200, threshold=1e-5)\n",
    "\n",
    "# shock the system\n",
    "interest.set_values({'Rlbar': 0.05})\n",
    "\n",
    "for _ in range(40):\n",
    "    interest.solve(iterations=100, threshold=1e-5)"
   ]
  },
  {
   "cell_type": "markdown",
   "metadata": {},
   "source": [
    "###### Figure 7.8"
   ]
  },
  {
   "cell_type": "code",
   "execution_count": 4,
   "metadata": {},
   "outputs": [
    {
     "data": {
      "image/png": "[encoded data removed]",
      "text/plain": [
       "<Figure size 432x288 with 1 Axes>"
      ]
     },
     "metadata": {},
     "output_type": "display_data"
    }
   ],
   "source": [
    "caption = '''\n",
    "    Figure 7.8  Evolution of Gross Domestic Income $(Y)_{t}$, following an\n",
    "    increase in the interest rate, in model BMWK'''\n",
    "data = [s['Y'] for s in interest.solutions[5:]]\n",
    "\n",
    "fig = plt.figure()\n",
    "axes = fig.add_axes([0.1, 0.1, 1.1, 1.1])\n",
    "axes.tick_params(top=False, right=False)\n",
    "axes.spines['top'].set_visible(False)\n",
    "axes.spines['right'].set_visible(False)\n",
    "axes.set_ylim(180, 186)\n",
    "\n",
    "axes.plot(data, linestyle='-', color='b')\n",
    "# add labels\n",
    "plt.text(20, 182, 'National income')\n",
    "         \n",
    "fig.text(0.1, -.05, caption);"
   ]
  },
  {
   "cell_type": "code",
   "execution_count": null,
   "metadata": {},
   "outputs": [],
   "source": []
  }
 ],
 "metadata": {
  "kernelspec": {
   "display_name": "Python 3",
   "language": "python",
   "name": "python3"
  },
  "language_info": {
   "codemirror_mode": {
    "name": "ipython",
    "version": 3
   },
   "file_extension": ".py",
   "mimetype": "text/x-python",
   "name": "python",
   "nbconvert_exporter": "python",
   "pygments_lexer": "ipython3",
   "version": "3.6.7"
  }
 },
 "nbformat": 4,
 "nbformat_minor": 1
}
