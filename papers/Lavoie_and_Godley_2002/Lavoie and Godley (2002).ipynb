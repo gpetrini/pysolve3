{
 "cells": [
  {
   "cell_type": "markdown",
   "metadata": {},
   "source": [
    "# Kaleckian models of growth in a coherent stock-flow monetary framework: a Kaldorian view"
   ]
  },
  {
   "cell_type": "code",
   "execution_count": 1,
   "metadata": {},
   "outputs": [],
   "source": [
    "from pysolve3.model import Model\n",
    "from pysolve3.utils import SFCTable, AddGrowth, ShockModel, SolveSFC\n",
    "import numpy as np\n",
    "import matplotlib.pyplot as plt\n",
    "import seaborn as sns\n",
    "import pandas as pd\n",
    "%matplotlib inline\n",
    "%config InlineBackend.figure_format = 'retina'"
   ]
  },
  {
   "cell_type": "code",
   "execution_count": null,
   "metadata": {},
   "outputs": [],
   "source": [
    "def create_model():\n",
    "    model = Model()\n",
    "\n",
    "    # Accounting\n",
    "    model.set_var_default(0)\n",
    "    \n",
    "    ##################################################################\n",
    "    # Variables\n",
    "    ##################################################################\n",
    "    model.var('Yrh', desc='Regular income of households')\n",
    "    model.var('Ws', desc = 'Wages')\n",
    "    model.var('FD', desc='Distributed dividends')\n",
    "    model.var('Md', desc='Demand for deposits')\n",
    "    model.var('Ms', desc='Deposits supply')\n",
    "    model.var('Cd', desc='Consumption demand')\n",
    "    model.var('V', desc='Household wealth')\n",
    "    model.var('CG', desc='Capital Gains')\n",
    "    model.var('q', desc='Tobin’s q ratio')\n",
    "    model.var('l', desc='debt-to-capital ratio of the firms')\n",
    "    model.var('Ld', desc='Demand for Loans')\n",
    "    model.var('rcf', desc='ratio of retained earnings to capital')\n",
    "    model.var('FU', desc='Undistributed Profits')\n",
    "    \n",
    "    model.var('Ydre', desc='Expected Yhr')\n",
    "    model.var('Ve', desc='Expected V')\n",
    "    model.var('CGe', desc='Expected Capital Gains')\n",
    "    \n",
    "    ##################################################################\n",
    "    # Parameters\n",
    "    ##################################################################\n",
    "    model.param('rm', desc='Deposits rate', default=0.05)\n",
    "    model.param('alpha_1', desc='Marginal propensity to consume out of Yhr', default=0.8)\n",
    "    model.param('a', desc='', default=1.2)\n",
    "    \n",
    "    ##################################################################\n",
    "    # Equations\n",
    "    ##################################################################\n",
    "    model.add('Yhr = Ws + FD + rm*Md(-1)') # Eq 1\n",
    "    model.add('V= Yhr - Cd + G') # Eq 4\n",
    "    model.add('q = V/K') # Eq 18\n",
    "    model.add('q = Ld/K') # Eq 19\n",
    "    model.add('rcf = FU/K(-1)') # Eq 20\n",
    "    model.add('Cd = alpha_1*Yhre + (\\alpha_1/a)*CG(-1)') # Eq 25\n",
    "    model.add('Ve = V(-1) + Yhre + CGe - Cd') # Eq 32\n",
    "    \n",
    "    \n",
    "    return model"
   ]
  }
 ],
 "metadata": {
  "kernelspec": {
   "display_name": "Python 3",
   "language": "python",
   "name": "python3"
  },
  "language_info": {
   "codemirror_mode": {
    "name": "ipython",
    "version": 3
   },
   "file_extension": ".py",
   "mimetype": "text/x-python",
   "name": "python",
   "nbconvert_exporter": "python",
   "pygments_lexer": "ipython3",
   "version": "3.7.2"
  }
 },
 "nbformat": 4,
 "nbformat_minor": 2
}
